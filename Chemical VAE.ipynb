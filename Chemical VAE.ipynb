{
 "cells": [
  {
   "cell_type": "markdown",
   "metadata": {},
   "source": [
    "## Setup Environment"
   ]
  },
  {
   "cell_type": "code",
   "execution_count": 1,
   "metadata": {},
   "outputs": [],
   "source": [
    "%reload_ext autoreload\n",
    "%autoreload 2\n",
    "%matplotlib inline"
   ]
  },
  {
   "cell_type": "code",
   "execution_count": 2,
   "metadata": {},
   "outputs": [],
   "source": [
    "import pathlib\n",
    "import yaml\n",
    "import pandas as pd\n",
    "import numpy as np\n",
    "import matplotlib.pyplot as plt\n",
    "import math\n",
    "\n",
    "import torch\n",
    "import torch.nn as nn\n",
    "from torch.utils.data import TensorDataset\n",
    "from torch.utils.data import DataLoader\n",
    "from torch import optim\n",
    "\n",
    "from sklearn.model_selection import train_test_split\n",
    "from time import time\n",
    "from tqdm import tqdm"
   ]
  },
  {
   "cell_type": "markdown",
   "metadata": {},
   "source": [
    "## Declare Constants"
   ]
  },
  {
   "cell_type": "code",
   "execution_count": 3,
   "metadata": {},
   "outputs": [],
   "source": [
    "MAX_LEN = 120\n",
    "NLATENT = 196\n",
    "DECODER_HIDDEN_SIZE = 488\n",
    "DECODER_NUM_LAYERS = 3\n",
    "\n",
    "DATA_DIR = './data'\n",
    "DATA_FILE_NAME = '250k_rndm_zinc_drugs_clean_3.csv'\n",
    "CHAR_FILE_NAME = 'zinc.json'\n",
    "TEST_IDX_FILE_NAME = 'test_idx.npy'\n",
    "\n",
    "MODELS_DIR = './models'"
   ]
  },
  {
   "cell_type": "markdown",
   "metadata": {},
   "source": [
    "## Create a Utility Class"
   ]
  },
  {
   "cell_type": "code",
   "execution_count": 4,
   "metadata": {},
   "outputs": [],
   "source": [
    "class VAEUtils:\n",
    "    '''\n",
    "    This purpose of this class is to help with various aspects\n",
    "    of data processing\n",
    "    '''\n",
    "    \n",
    "    def __init__(self, data_dir=DATA_DIR, \n",
    "                 data_file_name=DATA_FILE_NAME, \n",
    "                 char_file_name=CHAR_FILE_NAME, \n",
    "                 test_idx_file_name=TEST_IDX_FILE_NAME,\n",
    "                 max_len=MAX_LEN):\n",
    "        \n",
    "        self.data_dir = pathlib.Path(data_dir)\n",
    "        self.data_file = self.data_dir / pathlib.Path(data_file_name)\n",
    "        self.char_file = self.data_dir / pathlib.Path(char_file_name)\n",
    "        self.test_file = self.data_dir / pathlib.Path(test_idx_file_name)\n",
    "        \n",
    "        self.max_len = max_len\n",
    "        \n",
    "        all_letters = yaml.safe_load(open(self.char_file)) + ['SOS']\n",
    "        self.all_letters = all_letters\n",
    "        self.n_letters = len(all_letters)\n",
    "        self.letters_to_indices_dict = dict((l, i) for i, l in enumerate(all_letters))\n",
    "        self.indices_to_letters_dict = dict((i, l) for i, l in enumerate(all_letters))\n",
    "               \n",
    "    def get_data_df(self):\n",
    "        df = pd.read_csv(self.data_file)\n",
    "        df = df[df.smiles.str.len() <= self.max_len].reset_index(drop=True)\n",
    "        \n",
    "        # preprocess input smile to remove the newline character and add padding\n",
    "        df.loc[:, 'smiles'] = df.loc[:, 'smiles'].str.strip()\\\n",
    "                    .str.pad(width=self.max_len, side='right', fillchar=\" \")\n",
    "        \n",
    "        return df\n",
    "        \n",
    "    # One-hot matrix of first to last letters (not including EOS) for input\n",
    "    def get_input_tensor(self, smile):\n",
    "        tensor = torch.zeros(1, len(smile), self.n_letters) # batch_size * seq_length * num_features\n",
    "        for i, letter in enumerate(smile):\n",
    "            tensor[0][i][self.letters_to_indices_dict[letter]] = 1\n",
    "        return tensor\n",
    "\n",
    "    # LongTensor of first letter to end (EOS) for target\n",
    "    def get_target_tensor(self, smile):\n",
    "        letter_indexes = [self.letters_to_indices_dict[l] for l in smile]\n",
    "        # letter_indexes.append(self.n_letters - 1) # EOS\n",
    "        return torch.LongTensor(letter_indexes)\n",
    "    \n",
    "    def get_train_valid_test_splits(self, reg_col, valid_pct=.1):\n",
    "        df = self.get_data_df()[['smiles', reg_col]]\n",
    "        df = df.rename(columns={reg_col: 'reg_col'})\n",
    "        \n",
    "        test_idx = np.load(self.test_file)\n",
    "        non_test_idx = np.array(df[~df.index.isin(test_idx)].index)\n",
    "        train_idx, valid_idx = train_test_split(non_test_idx, test_size=valid_pct, \n",
    "                                                random_state=42, shuffle=True)\n",
    "        \n",
    "        assert len(df) == len(test_idx) + len(train_idx) + len(valid_idx)\n",
    "        \n",
    "        return df, train_idx, valid_idx, test_idx\n",
    "         \n",
    "    def get_dl(self, df, idx, bs, device, shuffle=False):\n",
    "        \n",
    "        df = df.iloc[idx]\n",
    "        \n",
    "        input_tensors = torch.zeros(len(df), self.max_len, self.n_letters)\n",
    "        target_tensors = torch.zeros(len(df), self.max_len, dtype=torch.long)\n",
    "        for i, smile in tqdm(enumerate(df.smiles)):\n",
    "            input_tensors[i] = self.get_input_tensor(smile)\n",
    "            target_tensors[i] = self.get_target_tensor(smile)\n",
    "        \n",
    "        input_tensors = input_tensors.to(device)\n",
    "        target_tensors = target_tensors.to(device)\n",
    "        \n",
    "        original_lengths = torch.tensor(df.smiles.str.strip().str.len().to_numpy()).to(device)\n",
    "\n",
    "        property_values = torch.tensor(df.reg_col.to_numpy()).type(torch.float32).to(device)\n",
    "         \n",
    "        ds = TensorDataset(input_tensors, target_tensors, original_lengths, property_values)\n",
    "        dl = DataLoader(ds, shuffle=shuffle, batch_size=bs)\n",
    "        \n",
    "        return dl\n",
    "    \n",
    "vae_utils = VAEUtils()"
   ]
  },
  {
   "cell_type": "markdown",
   "metadata": {},
   "source": [
    "## Create the Model Networks"
   ]
  },
  {
   "cell_type": "code",
   "execution_count": 5,
   "metadata": {},
   "outputs": [],
   "source": [
    "class Lambda(nn.Module):\n",
    "    '''\n",
    "    This class simplifies layers from \n",
    "    custom functions\n",
    "    '''\n",
    "    def __init__(self, func):\n",
    "        super().__init__()\n",
    "        self.func = func\n",
    "    \n",
    "    def forward(self, x):\n",
    "        return self.func(x)"
   ]
  },
  {
   "cell_type": "code",
   "execution_count": 6,
   "metadata": {},
   "outputs": [],
   "source": [
    "class Encoder(nn.Module):\n",
    "    def __init__(self, n_letters, nlatent, decoder_hidden_size):\n",
    "        super().__init__()\n",
    "        self.n_letters = n_letters\n",
    "        self.nlatent = nlatent\n",
    "        self.decoder_hidden_size = decoder_hidden_size\n",
    "        self.encoder = nn.Sequential(\n",
    "            Lambda(lambda x: x.permute(0, 2, 1)), # the features are in the channels dimension\n",
    "            nn.Conv1d(in_channels=n_letters, out_channels=9, kernel_size=9),\n",
    "            nn.Tanh(), # the authors of the paper used tanh\n",
    "            nn.BatchNorm1d(9), # the authors of the paper did batch normalization\n",
    "            nn.Conv1d(in_channels=9, out_channels=9, kernel_size=9),\n",
    "            nn.Tanh(), # the authors of the paper used tanh\n",
    "            nn.BatchNorm1d(9), # the authors of the paper did batch normalization\n",
    "            nn.Conv1d(in_channels=9, out_channels=11, kernel_size=10),\n",
    "            nn.Tanh(), # the authors of the paper used tanh\n",
    "            nn.BatchNorm1d(11), # the authors of the paper did batch normalization\n",
    "            nn.Flatten()\n",
    "        )\n",
    "        \n",
    "        self.mean = nn.Linear(1045, nlatent)\n",
    "        self.log_var = nn.Linear(1045, nlatent)\n",
    "        self.dec_init_hidden = nn.Linear(nlatent, decoder_hidden_size)\n",
    "        \n",
    "    def reparameterize(self, mean, log_var):\n",
    "        std = torch.exp(0.5 * log_var) \n",
    "        eps = torch.randn_like(std)\n",
    "        sample = mean + (eps * std) \n",
    "        return sample\n",
    "        \n",
    "    def forward(self, x):\n",
    "        x = self.encoder(x)\n",
    "        mean = self.mean(x)\n",
    "        log_var = self.log_var(x)\n",
    "        z = self.reparameterize(mean, log_var)\n",
    "        dec_init_hidden = self.dec_init_hidden(z)\n",
    "        \n",
    "        return z, mean, log_var, dec_init_hidden"
   ]
  },
  {
   "cell_type": "code",
   "execution_count": 7,
   "metadata": {},
   "outputs": [],
   "source": [
    "def preprocess_decoder_input(input_tensors):\n",
    "    '''\n",
    "    Adjust for SOS and make batch the second demension\n",
    "    '''\n",
    "    sos_tensor = torch.zeros(1, vae_utils.n_letters)\n",
    "    sos_tensor[0][vae_utils.letters_to_indices_dict['SOS']] = 1\n",
    "    new_tensor = torch.zeros(input_tensors.shape[0], vae_utils.max_len, vae_utils.n_letters)\n",
    "    new_tensor[:][0] = sos_tensor\n",
    "    new_tensor[:, 1:vae_utils.max_len, :] = input_tensors[:, 0:vae_utils.max_len-1, :]\n",
    "    new_tensor = new_tensor.permute(1, 0, 2).to(input_tensors.device)\n",
    "    \n",
    "    return new_tensor"
   ]
  },
  {
   "cell_type": "code",
   "execution_count": 8,
   "metadata": {},
   "outputs": [],
   "source": [
    "class Decoder(nn.Module):\n",
    "    def __init__(self, input_size, hidden_size, num_layers):\n",
    "        super().__init__()\n",
    "        self.input_size = input_size\n",
    "        self.hidden_size = hidden_size\n",
    "        self.num_layers = num_layers\n",
    "        self.preprocess = Lambda(preprocess_decoder_input)\n",
    "        self.rnn = nn.GRU(input_size, hidden_size, num_layers)\n",
    "        self.out = nn.Linear(hidden_size, input_size)\n",
    "        self.softmax = nn.Softmax(dim=2)\n",
    "        \n",
    "    def forward(self, input, hidden):\n",
    "        output, hidden = self.rnn(self.preprocess(input), )\n",
    "        output = output.permute(1, 0, 2)\n",
    "        output = self.softmax(self.out(output))\n",
    "        return output, hidden"
   ]
  },
  {
   "cell_type": "code",
   "execution_count": 9,
   "metadata": {},
   "outputs": [],
   "source": [
    "class PropertyPredictor(nn.Module):\n",
    "    def __init__(self, nlatent):\n",
    "        super().__init__()\n",
    "        self.predictor = nn.Sequential(\n",
    "            nn.Linear(nlatent, 1000),\n",
    "            nn.Tanh(), # the authors of the paper used tanh\n",
    "            nn.Dropout(.2),\n",
    "            nn.Linear(1000, 1000),\n",
    "            nn.Tanh(), # the authors of the paper used tanh\n",
    "            nn.Dropout(.2),\n",
    "            nn.Linear(1000, 1)\n",
    "        )\n",
    "        \n",
    "    def forward(self, x):\n",
    "        return self.predictor(x) "
   ]
  },
  {
   "cell_type": "markdown",
   "metadata": {},
   "source": [
    "## Write Helper Functions for Training and Testing"
   ]
  },
  {
   "cell_type": "code",
   "execution_count": 10,
   "metadata": {},
   "outputs": [],
   "source": [
    "def kl_anneal_function(epoch, anneal_start, k=1):\n",
    "    return 1 / (1 + np.exp(- k * (epoch - anneal_start)))"
   ]
  },
  {
   "cell_type": "code",
   "execution_count": 11,
   "metadata": {},
   "outputs": [],
   "source": [
    "def time_since(since):\n",
    "    now = time()\n",
    "    s = now - since\n",
    "    m = math.floor(s / 60)\n",
    "    s -= m * 60\n",
    "    return f'{m}m {s:.0f}s'"
   ]
  },
  {
   "cell_type": "code",
   "execution_count": 12,
   "metadata": {},
   "outputs": [],
   "source": [
    "def fit(epochs, anneal_start, lr, train_dl, valid_dl, device, reg_col:str, load_previous=False):\n",
    "    encoder = Encoder(vae_utils.n_letters, NLATENT, DECODER_HIDDEN_SIZE).to(device)\n",
    "    decoder = Decoder(vae_utils.n_letters, DECODER_HIDDEN_SIZE, DECODER_NUM_LAYERS).to(device)\n",
    "    property_predictor = PropertyPredictor(NLATENT).to(device)\n",
    "    \n",
    "    if load_previous:\n",
    "        encoder.load_state_dict(torch.load(pathlib.Path(MODELS_DIR, f'{reg_col}_encoder.pth')))\n",
    "        decoder.load_state_dict(torch.load(pathlib.Path(MODELS_DIR, f'{reg_col}_decoder.pth')))\n",
    "        property_predictor.load_state_dict(torch.load(pathlib.Path(MODELS_DIR, f'{reg_col}_property_predictor.pth')))\n",
    "    \n",
    "    enc_opt = optim.Adam(encoder.parameters(), lr=lr)\n",
    "    dec_opt = optim.Adam(decoder.parameters(), lr=lr)\n",
    "    pp_opt = optim.Adam(property_predictor.parameters(), lr=lr)\n",
    "    \n",
    "    recontruction_loss_func = nn.NLLLoss()\n",
    "    reg_loss_func = nn.MSELoss()\n",
    "    \n",
    "    train_losses = []\n",
    "    val_losses = []\n",
    "    \n",
    "    def process_dl(epoch, dl, train:bool):\n",
    "        num_loaders = len(dl)\n",
    "        loader_loss = 0\n",
    "        for input_tensors, target_tensors, original_lengths, property_values in dl:\n",
    "            z, mean, log_var, dec_init_hidden = encoder(input_tensors)\n",
    "            output, hidden = decoder(input_tensors, \n",
    "                                     dec_init_hidden.unsqueeze(0).repeat(DECODER_NUM_LAYERS, 1, 1))\n",
    "            reg_pred = property_predictor(z)\n",
    "            \n",
    "            kl_divergence = -0.5 * torch.sum(1 + log_var - mean.pow(2) - log_var.exp())\n",
    "            kl_weight = kl_anneal_function(epoch, anneal_start)\n",
    "            \n",
    "            reg_loss = reg_loss_func(reg_pred.flatten(), property_values)\n",
    "            reg_loss = reg_loss.type(torch.float32) \n",
    "            \n",
    "            reconstruction_loss = 0\n",
    "            for i in range(input_tensors.shape[0]):\n",
    "                reconstruction_loss += recontruction_loss_func(output[i], target_tensors[i])\n",
    "            reconstruction_loss /= input_tensors.shape[0]\n",
    "            reconstruction_loss = reconstruction_loss.type(torch.float32) \n",
    "\n",
    "            loss = reconstruction_loss + kl_divergence * kl_weight + reg_loss\n",
    "            \n",
    "            if train:\n",
    "                enc_opt.zero_grad()\n",
    "                dec_opt.zero_grad()\n",
    "                pp_opt.zero_grad()\n",
    "                \n",
    "                loss.backward()\n",
    "                \n",
    "                enc_opt.step()\n",
    "                dec_opt.step()\n",
    "                pp_opt.step()\n",
    "                \n",
    "            loader_loss += loss.item()\n",
    "        \n",
    "        return loader_loss / num_loaders\n",
    "    \n",
    "    start_time = time()\n",
    "    \n",
    "    for epoch in tqdm(range(epochs)):\n",
    "        encoder.train()\n",
    "        decoder.train()\n",
    "        property_predictor.train()\n",
    "        train_loss = process_dl(epoch, train_dl, train=True)\n",
    "        train_losses.append(train_loss)\n",
    "        \n",
    "        encoder.eval()\n",
    "        decoder.eval()\n",
    "        property_predictor.eval()\n",
    "        with torch.no_grad():\n",
    "            val_loss = process_dl(epoch, valid_dl, train=False)\n",
    "            val_losses.append(val_loss)\n",
    "            \n",
    "        print(f\"Epoch: {epoch+1:3d} | Train Loss: {train_loss:10.5f} | Val Loss: {val_loss:10.5f} | \" +\\\n",
    "              f\"Time Taken: {time_since(start_time)}\")\n",
    "    \n",
    "    models_dir = pathlib.Path(MODELS_DIR)\n",
    "    models_dir.mkdir(exist_ok=True, parents=True)\n",
    "    torch.save(encoder.state_dict(), models_dir / pathlib.Path(f'{reg_col}_encoder.pth'))\n",
    "    torch.save(decoder.state_dict(), models_dir / pathlib.Path(f'{reg_col}_decoder.pth'))\n",
    "    torch.save(property_predictor.state_dict(), models_dir / pathlib.Path(f'{reg_col}_property_predictor.pth'))\n",
    "    \n",
    "    return train_losses, val_losses"
   ]
  },
  {
   "cell_type": "code",
   "execution_count": 13,
   "metadata": {},
   "outputs": [],
   "source": [
    "def plot_losses(train_losses, val_losses):\n",
    "    plt.figure(figsize=(20,10))\n",
    "    plt.rcParams.update({'font.size': 15})\n",
    "\n",
    "    plt.plot(train_losses, label='Train Loss')\n",
    "    plt.plot(val_losses, label = 'Validation Loss')\n",
    "\n",
    "    plt.xlabel('Epoch')\n",
    "    plt.ylabel('Loss')\n",
    "\n",
    "    plt.legend(loc='upper right')\n",
    "    plt.show()"
   ]
  },
  {
   "cell_type": "code",
   "execution_count": 14,
   "metadata": {},
   "outputs": [],
   "source": [
    "def get_dataloaders(df, train_idx, valid_idx, test_idx):\n",
    "    start_time = time()\n",
    "    train_dl = vae_utils.get_dl(df, train_idx[:max_samples], bs, device, shuffle=True)\n",
    "    valid_dl = vae_utils.get_dl(df, valid_idx[:max_samples], bs*2, device)\n",
    "    test_dl = vae_utils.get_dl(df, test_idx[:max_samples], bs*2, device)\n",
    "    print(f'Time taken to get dataloaders: {time() - start_time:.2f}s')\n",
    "    \n",
    "    return train_dl, valid_dl, test_dl"
   ]
  },
  {
   "cell_type": "code",
   "execution_count": 15,
   "metadata": {},
   "outputs": [],
   "source": [
    "def get_pred_mae(reg_col, dl):\n",
    "    encoder = Encoder(vae_utils.n_letters, NLATENT, DECODER_HIDDEN_SIZE).to(device)\n",
    "    property_predictor = PropertyPredictor(NLATENT).to(device)\n",
    "\n",
    "    encoder.load_state_dict(torch.load(pathlib.Path(MODELS_DIR, f'{reg_col}_encoder.pth')))\n",
    "    property_predictor.load_state_dict(torch.load(pathlib.Path(MODELS_DIR, f'{reg_col}_property_predictor.pth')))\n",
    "    \n",
    "    encoder.eval()\n",
    "    property_predictor.eval()\n",
    "    \n",
    "    with torch.no_grad():\n",
    "        abs_errors = []\n",
    "        for input_tensors, target_tensors, original_lengths, property_values in dl:\n",
    "            z, mean, log_var, dec_init_hidden = encoder(input_tensors)\n",
    "            reg_pred = property_predictor(z)\n",
    "            abs_error = torch.abs(property_values - reg_pred.flatten())\n",
    "            abs_errors.append(abs_error)\n",
    "            \n",
    "        abs_errors = torch.cat(abs_errors)\n",
    "        mae_error = abs_errors.mean()\n",
    "        \n",
    "    return mae_error"
   ]
  },
  {
   "cell_type": "markdown",
   "metadata": {},
   "source": [
    "## Define Parameters for Training"
   ]
  },
  {
   "cell_type": "code",
   "execution_count": 16,
   "metadata": {},
   "outputs": [],
   "source": [
    "valid_pct = .1\n",
    "bs = 1000\n",
    "max_samples = 250000\n",
    "device = torch.device('cuda:0') if torch.cuda.is_available() else torch.device(\"cpu\")\n",
    "# device = torch.device(\"cpu\")\n",
    "epochs = 15\n",
    "anneal_start = 5\n",
    "lr = 0.0005\n",
    "load_previous = True"
   ]
  },
  {
   "cell_type": "markdown",
   "metadata": {},
   "source": [
    "## Train and Test the Network for _logP_"
   ]
  },
  {
   "cell_type": "code",
   "execution_count": 17,
   "metadata": {},
   "outputs": [],
   "source": [
    "errors = {}"
   ]
  },
  {
   "cell_type": "code",
   "execution_count": 18,
   "metadata": {
    "scrolled": true
   },
   "outputs": [
    {
     "name": "stderr",
     "output_type": "stream",
     "text": [
      "224018it [04:17, 869.46it/s]\n",
      "24891it [00:28, 860.76it/s]\n",
      "546it [00:00, 759.91it/s]\n",
      "  0%|          | 0/15 [00:00<?, ?it/s]"
     ]
    },
    {
     "name": "stdout",
     "output_type": "stream",
     "text": [
      "Time taken to get dataloaders: 291.81s\n"
     ]
    },
    {
     "name": "stderr",
     "output_type": "stream",
     "text": [
      "  7%|▋         | 1/15 [03:29<48:50, 209.32s/it]"
     ]
    },
    {
     "name": "stdout",
     "output_type": "stream",
     "text": [
      "Epoch:   1 | Train Loss:    1.25938 | Val Loss:    1.27215 | Time Taken: 3m 29s\n"
     ]
    },
    {
     "name": "stderr",
     "output_type": "stream",
     "text": [
      " 13%|█▎        | 2/15 [06:59<45:24, 209.59s/it]"
     ]
    },
    {
     "name": "stdout",
     "output_type": "stream",
     "text": [
      "Epoch:   2 | Train Loss:    1.26588 | Val Loss:    1.28007 | Time Taken: 6m 59s\n"
     ]
    },
    {
     "name": "stderr",
     "output_type": "stream",
     "text": [
      " 20%|██        | 3/15 [10:28<41:55, 209.65s/it]"
     ]
    },
    {
     "name": "stdout",
     "output_type": "stream",
     "text": [
      "Epoch:   3 | Train Loss:    1.27078 | Val Loss:    1.27260 | Time Taken: 10m 29s\n"
     ]
    },
    {
     "name": "stderr",
     "output_type": "stream",
     "text": [
      " 27%|██▋       | 4/15 [13:58<38:27, 209.82s/it]"
     ]
    },
    {
     "name": "stdout",
     "output_type": "stream",
     "text": [
      "Epoch:   4 | Train Loss:    1.26427 | Val Loss:    1.29715 | Time Taken: 13m 59s\n"
     ]
    },
    {
     "name": "stderr",
     "output_type": "stream",
     "text": [
      " 33%|███▎      | 5/15 [17:28<34:57, 209.79s/it]"
     ]
    },
    {
     "name": "stdout",
     "output_type": "stream",
     "text": [
      "Epoch:   5 | Train Loss:    1.26756 | Val Loss:    1.30843 | Time Taken: 17m 29s\n"
     ]
    },
    {
     "name": "stderr",
     "output_type": "stream",
     "text": [
      " 40%|████      | 6/15 [20:58<31:29, 209.91s/it]"
     ]
    },
    {
     "name": "stdout",
     "output_type": "stream",
     "text": [
      "Epoch:   6 | Train Loss:    1.27719 | Val Loss:    1.27638 | Time Taken: 20m 59s\n"
     ]
    },
    {
     "name": "stderr",
     "output_type": "stream",
     "text": [
      " 47%|████▋     | 7/15 [24:28<27:59, 209.91s/it]"
     ]
    },
    {
     "name": "stdout",
     "output_type": "stream",
     "text": [
      "Epoch:   7 | Train Loss:    1.26608 | Val Loss:    1.27088 | Time Taken: 24m 29s\n"
     ]
    },
    {
     "name": "stderr",
     "output_type": "stream",
     "text": [
      " 53%|█████▎    | 8/15 [27:58<24:29, 209.93s/it]"
     ]
    },
    {
     "name": "stdout",
     "output_type": "stream",
     "text": [
      "Epoch:   8 | Train Loss:    1.26412 | Val Loss:    1.28022 | Time Taken: 27m 59s\n"
     ]
    },
    {
     "name": "stderr",
     "output_type": "stream",
     "text": [
      " 60%|██████    | 9/15 [31:28<20:59, 209.85s/it]"
     ]
    },
    {
     "name": "stdout",
     "output_type": "stream",
     "text": [
      "Epoch:   9 | Train Loss:    1.26718 | Val Loss:    1.27411 | Time Taken: 31m 28s\n"
     ]
    },
    {
     "name": "stderr",
     "output_type": "stream",
     "text": [
      " 67%|██████▋   | 10/15 [34:58<17:29, 209.89s/it]"
     ]
    },
    {
     "name": "stdout",
     "output_type": "stream",
     "text": [
      "Epoch:  10 | Train Loss:    1.26834 | Val Loss:    1.27211 | Time Taken: 34m 58s\n"
     ]
    },
    {
     "name": "stderr",
     "output_type": "stream",
     "text": [
      " 73%|███████▎  | 11/15 [38:29<14:01, 210.28s/it]"
     ]
    },
    {
     "name": "stdout",
     "output_type": "stream",
     "text": [
      "Epoch:  11 | Train Loss:    1.26172 | Val Loss:    1.28514 | Time Taken: 38m 29s\n"
     ]
    },
    {
     "name": "stderr",
     "output_type": "stream",
     "text": [
      " 80%|████████  | 12/15 [42:00<10:31, 210.48s/it]"
     ]
    },
    {
     "name": "stdout",
     "output_type": "stream",
     "text": [
      "Epoch:  12 | Train Loss:    1.26230 | Val Loss:    1.27470 | Time Taken: 42m 0s\n"
     ]
    },
    {
     "name": "stderr",
     "output_type": "stream",
     "text": [
      " 87%|████████▋ | 13/15 [45:33<07:02, 211.15s/it]"
     ]
    },
    {
     "name": "stdout",
     "output_type": "stream",
     "text": [
      "Epoch:  13 | Train Loss:    1.26015 | Val Loss:    1.27967 | Time Taken: 45m 33s\n"
     ]
    },
    {
     "name": "stderr",
     "output_type": "stream",
     "text": [
      " 93%|█████████▎| 14/15 [49:03<03:31, 211.02s/it]"
     ]
    },
    {
     "name": "stdout",
     "output_type": "stream",
     "text": [
      "Epoch:  14 | Train Loss:    1.26118 | Val Loss:    1.31450 | Time Taken: 49m 4s\n"
     ]
    },
    {
     "name": "stderr",
     "output_type": "stream",
     "text": [
      "100%|██████████| 15/15 [52:34<00:00, 210.32s/it]"
     ]
    },
    {
     "name": "stdout",
     "output_type": "stream",
     "text": [
      "Epoch:  15 | Train Loss:    1.26542 | Val Loss:    1.29547 | Time Taken: 52m 35s\n"
     ]
    },
    {
     "name": "stderr",
     "output_type": "stream",
     "text": [
      "\n"
     ]
    },
    {
     "data": {
      "image/png": "[encoded data removed]",
      "text/plain": [
       "<Figure size 1440x720 with 1 Axes>"
      ]
     },
     "metadata": {
      "needs_background": "light"
     },
     "output_type": "display_data"
    }
   ],
   "source": [
    "reg_col = 'logP'\n",
    "df, train_idx, valid_idx, test_idx = vae_utils.get_train_valid_test_splits(reg_col, valid_pct)\n",
    "train_dl, valid_dl, test_dl = get_dataloaders(df, train_idx, valid_idx, test_idx)\n",
    "train_losses, val_losses = fit(epochs, anneal_start, lr, train_dl, valid_dl, device, reg_col, load_previous)\n",
    "plot_losses(train_losses, val_losses)"
   ]
  },
  {
   "cell_type": "code",
   "execution_count": 19,
   "metadata": {},
   "outputs": [],
   "source": [
    "reg_mean_train = df.iloc[train_idx].reg_col.mean()\n",
    "mean_mae_test = np.mean(np.abs(df.iloc[test_idx].reg_col - reg_mean_train))\n",
    "vae_mae_test = get_pred_mae(reg_col, test_dl).item()\n",
    "errors[reg_col] = {'mean_mae_test': mean_mae_test, 'vae_mae_test': vae_mae_test}"
   ]
  },
  {
   "cell_type": "markdown",
   "metadata": {},
   "source": [
    "## Train and Test the Network for _QED_"
   ]
  },
  {
   "cell_type": "code",
   "execution_count": 20,
   "metadata": {
    "scrolled": true
   },
   "outputs": [
    {
     "name": "stderr",
     "output_type": "stream",
     "text": [
      "224018it [04:34, 816.05it/s]\n",
      "24891it [00:31, 797.52it/s]\n",
      "546it [00:00, 886.34it/s]\n",
      "  0%|          | 0/15 [00:00<?, ?it/s]"
     ]
    },
    {
     "name": "stdout",
     "output_type": "stream",
     "text": [
      "Time taken to get dataloaders: 308.24s\n"
     ]
    },
    {
     "name": "stderr",
     "output_type": "stream",
     "text": [
      "  7%|▋         | 1/15 [03:29<48:48, 209.18s/it]"
     ]
    },
    {
     "name": "stdout",
     "output_type": "stream",
     "text": [
      "Epoch:   1 | Train Loss:   -0.86341 | Val Loss:   -0.86314 | Time Taken: 3m 29s\n"
     ]
    },
    {
     "name": "stderr",
     "output_type": "stream",
     "text": [
      " 13%|█▎        | 2/15 [06:59<45:25, 209.68s/it]"
     ]
    },
    {
     "name": "stdout",
     "output_type": "stream",
     "text": [
      "Epoch:   2 | Train Loss:   -0.86406 | Val Loss:   -0.86295 | Time Taken: 6m 59s\n"
     ]
    },
    {
     "name": "stderr",
     "output_type": "stream",
     "text": [
      " 20%|██        | 3/15 [10:29<41:58, 209.86s/it]"
     ]
    },
    {
     "name": "stdout",
     "output_type": "stream",
     "text": [
      "Epoch:   3 | Train Loss:   -0.86139 | Val Loss:   -0.86188 | Time Taken: 10m 29s\n"
     ]
    },
    {
     "name": "stderr",
     "output_type": "stream",
     "text": [
      " 27%|██▋       | 4/15 [13:59<38:28, 209.83s/it]"
     ]
    },
    {
     "name": "stdout",
     "output_type": "stream",
     "text": [
      "Epoch:   4 | Train Loss:   -0.86425 | Val Loss:   -0.86331 | Time Taken: 13m 59s\n"
     ]
    },
    {
     "name": "stderr",
     "output_type": "stream",
     "text": [
      " 33%|███▎      | 5/15 [17:30<35:04, 210.43s/it]"
     ]
    },
    {
     "name": "stdout",
     "output_type": "stream",
     "text": [
      "Epoch:   5 | Train Loss:   -0.85489 | Val Loss:   -0.86270 | Time Taken: 17m 31s\n"
     ]
    },
    {
     "name": "stderr",
     "output_type": "stream",
     "text": [
      " 40%|████      | 6/15 [21:01<31:35, 210.57s/it]"
     ]
    },
    {
     "name": "stdout",
     "output_type": "stream",
     "text": [
      "Epoch:   6 | Train Loss:   -0.86443 | Val Loss:   -0.86352 | Time Taken: 21m 1s\n"
     ]
    },
    {
     "name": "stderr",
     "output_type": "stream",
     "text": [
      " 47%|████▋     | 7/15 [24:31<28:04, 210.57s/it]"
     ]
    },
    {
     "name": "stdout",
     "output_type": "stream",
     "text": [
      "Epoch:   7 | Train Loss:   -0.86472 | Val Loss:   -0.86242 | Time Taken: 24m 32s\n"
     ]
    },
    {
     "name": "stderr",
     "output_type": "stream",
     "text": [
      " 53%|█████▎    | 8/15 [28:02<24:33, 210.45s/it]"
     ]
    },
    {
     "name": "stdout",
     "output_type": "stream",
     "text": [
      "Epoch:   8 | Train Loss:   -0.86467 | Val Loss:   -0.86341 | Time Taken: 28m 2s\n"
     ]
    },
    {
     "name": "stderr",
     "output_type": "stream",
     "text": [
      " 60%|██████    | 9/15 [31:32<21:01, 210.31s/it]"
     ]
    },
    {
     "name": "stdout",
     "output_type": "stream",
     "text": [
      "Epoch:   9 | Train Loss:   -0.86494 | Val Loss:   -0.86273 | Time Taken: 31m 32s\n"
     ]
    },
    {
     "name": "stderr",
     "output_type": "stream",
     "text": [
      " 67%|██████▋   | 10/15 [35:02<17:31, 210.24s/it]"
     ]
    },
    {
     "name": "stdout",
     "output_type": "stream",
     "text": [
      "Epoch:  10 | Train Loss:   -0.86489 | Val Loss:   -0.86326 | Time Taken: 35m 2s\n"
     ]
    },
    {
     "name": "stderr",
     "output_type": "stream",
     "text": [
      " 73%|███████▎  | 11/15 [38:32<14:00, 210.15s/it]"
     ]
    },
    {
     "name": "stdout",
     "output_type": "stream",
     "text": [
      "Epoch:  11 | Train Loss:   -0.86500 | Val Loss:   -0.86362 | Time Taken: 38m 32s\n"
     ]
    },
    {
     "name": "stderr",
     "output_type": "stream",
     "text": [
      " 80%|████████  | 12/15 [42:02<10:30, 210.07s/it]"
     ]
    },
    {
     "name": "stdout",
     "output_type": "stream",
     "text": [
      "Epoch:  12 | Train Loss:   -0.86531 | Val Loss:   -0.86349 | Time Taken: 42m 2s\n"
     ]
    },
    {
     "name": "stderr",
     "output_type": "stream",
     "text": [
      " 87%|████████▋ | 13/15 [45:31<06:59, 209.95s/it]"
     ]
    },
    {
     "name": "stdout",
     "output_type": "stream",
     "text": [
      "Epoch:  13 | Train Loss:   -0.86555 | Val Loss:   -0.86421 | Time Taken: 45m 32s\n"
     ]
    },
    {
     "name": "stderr",
     "output_type": "stream",
     "text": [
      " 93%|█████████▎| 14/15 [49:01<03:29, 209.95s/it]"
     ]
    },
    {
     "name": "stdout",
     "output_type": "stream",
     "text": [
      "Epoch:  14 | Train Loss:   -0.86551 | Val Loss:   -0.85965 | Time Taken: 49m 2s\n"
     ]
    },
    {
     "name": "stderr",
     "output_type": "stream",
     "text": [
      "100%|██████████| 15/15 [52:31<00:00, 210.12s/it]"
     ]
    },
    {
     "name": "stdout",
     "output_type": "stream",
     "text": [
      "Epoch:  15 | Train Loss:   -0.86516 | Val Loss:   -0.86334 | Time Taken: 52m 32s\n"
     ]
    },
    {
     "name": "stderr",
     "output_type": "stream",
     "text": [
      "\n"
     ]
    },
    {
     "data": {
      "image/png": "[encoded data removed]",
      "text/plain": [
       "<Figure size 1440x720 with 1 Axes>"
      ]
     },
     "metadata": {
      "needs_background": "light"
     },
     "output_type": "display_data"
    }
   ],
   "source": [
    "reg_col = 'qed'\n",
    "df, train_idx, valid_idx, test_idx = vae_utils.get_train_valid_test_splits(reg_col, valid_pct)\n",
    "train_dl, valid_dl, test_dl = get_dataloaders(df, train_idx, valid_idx, test_idx)\n",
    "train_losses, val_losses = fit(epochs, anneal_start, lr, train_dl, valid_dl, device, reg_col, load_previous)\n",
    "plot_losses(train_losses, val_losses)"
   ]
  },
  {
   "cell_type": "code",
   "execution_count": 21,
   "metadata": {},
   "outputs": [],
   "source": [
    "reg_mean_train = df.iloc[train_idx].reg_col.mean()\n",
    "mean_mae_test = np.mean(np.abs(df.iloc[test_idx].reg_col - reg_mean_train))\n",
    "vae_mae_test = get_pred_mae(reg_col, test_dl).item()\n",
    "errors[reg_col] = {'mean_mae_test': mean_mae_test, 'vae_mae_test': vae_mae_test}"
   ]
  },
  {
   "cell_type": "markdown",
   "metadata": {},
   "source": [
    "## Report the Results"
   ]
  },
  {
   "cell_type": "code",
   "execution_count": 22,
   "metadata": {},
   "outputs": [
    {
     "data": {
      "text/html": [
       "<div>\n",
       "<style scoped>\n",
       "    .dataframe tbody tr th:only-of-type {\n",
       "        vertical-align: middle;\n",
       "    }\n",
       "\n",
       "    .dataframe tbody tr th {\n",
       "        vertical-align: top;\n",
       "    }\n",
       "\n",
       "    .dataframe thead th {\n",
       "        text-align: right;\n",
       "    }\n",
       "</style>\n",
       "<table border=\"1\" class=\"dataframe\">\n",
       "  <thead>\n",
       "    <tr style=\"text-align: right;\">\n",
       "      <th></th>\n",
       "      <th>mean_mae_test</th>\n",
       "      <th>vae_mae_test</th>\n",
       "    </tr>\n",
       "  </thead>\n",
       "  <tbody>\n",
       "    <tr>\n",
       "      <th>logP</th>\n",
       "      <td>1.119256</td>\n",
       "      <td>1.155864</td>\n",
       "    </tr>\n",
       "    <tr>\n",
       "      <th>qed</th>\n",
       "      <td>0.107472</td>\n",
       "      <td>0.108098</td>\n",
       "    </tr>\n",
       "  </tbody>\n",
       "</table>\n",
       "</div>"
      ],
      "text/plain": [
       "      mean_mae_test  vae_mae_test\n",
       "logP       1.119256      1.155864\n",
       "qed        0.107472      0.108098"
      ]
     },
     "execution_count": 22,
     "metadata": {},
     "output_type": "execute_result"
    }
   ],
   "source": [
    "pd.DataFrame(errors).transpose()"
   ]
  },
  {
   "cell_type": "markdown",
   "metadata": {},
   "source": [
    "## Remarks"
   ]
  },
  {
   "cell_type": "markdown",
   "metadata": {},
   "source": [
    "The model was trained in 4 stages. Except for the 1st stage, the other two stages were trained after loading the saving parameters from the previous stage.\n",
    "The stages are summarized below:\n",
    "\n",
    "1. max_exmaples = 20,000, epochs = 50, anneal_start = 15, load_previous = False, bs = 200\n",
    "2. max_examples = 100,000, epochs = 15, anneal_start = 5, load_previous = True, bs = 200\n",
    "3. max_examples = all, epochs = 10, anneal_start = 3, load_previous = True, bs = 200\n",
    "4. max_examples = all, epochs = 15, anneal_start = 5, load_previous = True, bs = 1000\n"
   ]
  },
  {
   "cell_type": "code",
   "execution_count": null,
   "metadata": {},
   "outputs": [],
   "source": []
  }
 ],
 "metadata": {
  "kernelspec": {
   "display_name": "Python 3",
   "language": "python",
   "name": "python3"
  },
  "language_info": {
   "codemirror_mode": {
    "name": "ipython",
    "version": 3
   },
   "file_extension": ".py",
   "mimetype": "text/x-python",
   "name": "python",
   "nbconvert_exporter": "python",
   "pygments_lexer": "ipython3",
   "version": "3.6.8"
  }
 },
 "nbformat": 4,
 "nbformat_minor": 4
}
