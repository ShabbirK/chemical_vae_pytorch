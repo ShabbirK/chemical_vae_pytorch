{
 "cells": [
  {
   "cell_type": "markdown",
   "metadata": {},
   "source": [
    "## Setup Environment"
   ]
  },
  {
   "cell_type": "code",
   "execution_count": 1,
   "metadata": {},
   "outputs": [],
   "source": [
    "%reload_ext autoreload\n",
    "%autoreload 2\n",
    "%matplotlib inline"
   ]
  },
  {
   "cell_type": "code",
   "execution_count": 3,
   "metadata": {},
   "outputs": [],
   "source": [
    "import pathlib\n",
    "import yaml\n",
    "import pandas as pd\n",
    "import numpy as np\n",
    "import matplotlib.pyplot as plt\n",
    "import math\n",
    "\n",
    "import torch\n",
    "import torch.nn as nn\n",
    "from torch.utils.data import TensorDataset\n",
    "from torch.utils.data import DataLoader\n",
    "from torch import optim\n",
    "\n",
    "from sklearn.model_selection import train_test_split\n",
    "from time import time\n",
    "from tqdm.notebook import tqdm"
   ]
  },
  {
   "cell_type": "markdown",
   "metadata": {},
   "source": [
    "## Declare Constants"
   ]
  },
  {
   "cell_type": "code",
   "execution_count": 4,
   "metadata": {},
   "outputs": [],
   "source": [
    "MAX_LEN = 120\n",
    "NLATENT = 196\n",
    "DECODER_HIDDEN_SIZE = 488\n",
    "DECODER_NUM_LAYERS = 3\n",
    "\n",
    "DATA_DIR = './data'\n",
    "DATA_FILE_NAME = '250k_rndm_zinc_drugs_clean_3.csv'\n",
    "CHAR_FILE_NAME = 'zinc.json'\n",
    "TEST_IDX_FILE_NAME = 'test_idx.npy'\n",
    "\n",
    "MODELS_DIR = './models'"
   ]
  },
  {
   "cell_type": "markdown",
   "metadata": {},
   "source": [
    "## Create a Utility Class"
   ]
  },
  {
   "cell_type": "code",
   "execution_count": 20,
   "metadata": {},
   "outputs": [],
   "source": [
    "class VAEUtils:\n",
    "    '''\n",
    "    This purpose of this class is to help with various aspects\n",
    "    of data processing\n",
    "    '''\n",
    "    \n",
    "    def __init__(self, data_dir=DATA_DIR, \n",
    "                 data_file_name=DATA_FILE_NAME, \n",
    "                 char_file_name=CHAR_FILE_NAME, \n",
    "                 test_idx_file_name=TEST_IDX_FILE_NAME,\n",
    "                 max_len=MAX_LEN):\n",
    "        \n",
    "        self.data_dir = pathlib.Path(data_dir)\n",
    "        self.data_file = self.data_dir / pathlib.Path(data_file_name)\n",
    "        self.char_file = self.data_dir / pathlib.Path(char_file_name)\n",
    "        self.test_file = self.data_dir / pathlib.Path(test_idx_file_name)\n",
    "        \n",
    "        self.max_len = max_len\n",
    "        \n",
    "        all_letters = yaml.safe_load(open(self.char_file)) + ['SOS']\n",
    "        self.all_letters = all_letters\n",
    "        self.n_letters = len(all_letters)\n",
    "        self.letters_to_indices_dict = dict((l, i) for i, l in enumerate(all_letters))\n",
    "        self.indices_to_letters_dict = dict((i, l) for i, l in enumerate(all_letters))\n",
    "               \n",
    "    def get_data_df(self):\n",
    "        df = pd.read_csv(self.data_file)\n",
    "        df = df[df.smiles.str.len() <= self.max_len].reset_index(drop=True)\n",
    "        \n",
    "        # preprocess input smile to remove the newline character and add padding\n",
    "        df.loc[:, 'smiles'] = df.loc[:, 'smiles'].str.strip()\\\n",
    "                    .str.pad(width=self.max_len, side='right', fillchar=\" \")\n",
    "        \n",
    "        return df\n",
    "        \n",
    "    # One-hot matrix of first to last letters (not including EOS) for input\n",
    "    def get_input_tensor(self, smile):\n",
    "        tensor = torch.zeros(1, len(smile), self.n_letters) # batch_size * seq_length * num_features\n",
    "        for i, letter in enumerate(smile):\n",
    "            tensor[0][i][self.letters_to_indices_dict[letter]] = 1\n",
    "        return tensor\n",
    "\n",
    "    # LongTensor of first letter to end (EOS) for target\n",
    "    def get_target_tensor(self, smile):\n",
    "        letter_indexes = [self.letters_to_indices_dict[l] for l in smile]\n",
    "        # letter_indexes.append(self.n_letters - 1) # EOS\n",
    "        return torch.LongTensor(letter_indexes)\n",
    "    \n",
    "    def get_train_valid_test_splits(self, reg_col, valid_pct=.1):\n",
    "        df = self.get_data_df()[['smiles', reg_col]]\n",
    "        df = df.rename(columns={reg_col: 'reg_col'})\n",
    "        \n",
    "        test_idx = np.load(self.test_file)\n",
    "        non_test_idx = np.array(df[~df.index.isin(test_idx)].index)\n",
    "        train_idx, valid_idx = train_test_split(non_test_idx, test_size=valid_pct, \n",
    "                                                random_state=42, shuffle=True)\n",
    "        \n",
    "        assert len(df) == len(test_idx) + len(train_idx) + len(valid_idx)\n",
    "        \n",
    "        return df, train_idx, valid_idx, test_idx\n",
    "         \n",
    "    def get_dl(self, df, idx, bs, device, shuffle=False):\n",
    "        \n",
    "        df = df.iloc[idx]\n",
    "        \n",
    "        input_tensors = torch.zeros(len(df), self.max_len, self.n_letters)\n",
    "        target_tensors = torch.zeros(len(df), self.max_len, dtype=torch.long)\n",
    "        for i, smile in tqdm(enumerate(df.smiles)):\n",
    "            input_tensors[i] = self.get_input_tensor(smile)\n",
    "            target_tensors[i] = self.get_target_tensor(smile)\n",
    "        \n",
    "        input_tensors = input_tensors.to(device)\n",
    "        target_tensors = target_tensors.to(device)\n",
    "        \n",
    "        original_lengths = torch.tensor(df.smiles.str.strip().str.len().to_numpy()).to(device)\n",
    "\n",
    "        property_values = torch.tensor(df.reg_col.to_numpy()).type(torch.float32).to(device)\n",
    "         \n",
    "        ds = TensorDataset(input_tensors, target_tensors, original_lengths, property_values)\n",
    "        dl = DataLoader(ds, shuffle=shuffle, batch_size=bs)\n",
    "        \n",
    "        return dl\n",
    "    \n",
    "vae_utils = VAEUtils()"
   ]
  },
  {
   "cell_type": "markdown",
   "metadata": {},
   "source": [
    "## Create the Model Networks"
   ]
  },
  {
   "cell_type": "code",
   "execution_count": 21,
   "metadata": {},
   "outputs": [],
   "source": [
    "class Lambda(nn.Module):\n",
    "    '''\n",
    "    This class simplifies layers from \n",
    "    custom functions\n",
    "    '''\n",
    "    def __init__(self, func):\n",
    "        super().__init__()\n",
    "        self.func = func\n",
    "    \n",
    "    def forward(self, x):\n",
    "        return self.func(x)"
   ]
  },
  {
   "cell_type": "code",
   "execution_count": 22,
   "metadata": {},
   "outputs": [],
   "source": [
    "class Encoder(nn.Module):\n",
    "    def __init__(self, n_letters, nlatent, decoder_hidden_size):\n",
    "        super().__init__()\n",
    "        self.nlatent = nlatent\n",
    "        self.decoder_hidden_size = decoder_hidden_size\n",
    "        self.encoder = nn.Sequential(\n",
    "            Lambda(lambda x: x.permute(0, 2, 1)), # the features are in the channels dimension\n",
    "            nn.Conv1d(in_channels=n_letters, out_channels=9, kernel_size=9),\n",
    "            nn.Tanh(), # the authors of the paper used tanh\n",
    "            nn.BatchNorm1d(9), # the authors of the paper did batch normalization\n",
    "            nn.Conv1d(in_channels=9, out_channels=9, kernel_size=9),\n",
    "            nn.Tanh(), # the authors of the paper used tanh\n",
    "            nn.BatchNorm1d(9), # the authors of the paper did batch normalization\n",
    "            nn.Conv1d(in_channels=9, out_channels=11, kernel_size=10),\n",
    "            nn.Tanh(), # the authors of the paper used tanh\n",
    "            nn.BatchNorm1d(11), # the authors of the paper did batch normalization\n",
    "            nn.Flatten()\n",
    "        )\n",
    "        \n",
    "        self.mean = nn.Linear(1045, nlatent)\n",
    "        self.log_var = nn.Linear(1045, nlatent)\n",
    "        self.dec_init_hidden = nn.Linear(nlatent, decoder_hidden_size)\n",
    "        \n",
    "    def reparameterize(self, mean, log_var):\n",
    "        std = torch.exp(0.5 * log_var) \n",
    "        eps = torch.randn_like(std)\n",
    "        sample = mean + (eps * std) \n",
    "        return sample\n",
    "        \n",
    "    def forward(self, x):\n",
    "        x = self.encoder(x)\n",
    "        mean = self.mean(x)\n",
    "        log_var = self.log_var(x)\n",
    "        z = self.reparameterize(mean, log_var)\n",
    "        dec_init_hidden = self.dec_init_hidden(z)\n",
    "        \n",
    "        return z, mean, log_var, dec_init_hidden"
   ]
  },
  {
   "cell_type": "code",
   "execution_count": 23,
   "metadata": {},
   "outputs": [],
   "source": [
    "def preprocess_decoder_input(input_tensors):\n",
    "    '''\n",
    "    Adjust for SOS and make batch the second demension\n",
    "    '''\n",
    "    sos_tensor = torch.zeros(1, vae_utils.n_letters)\n",
    "    sos_tensor[0][vae_utils.letters_to_indices_dict['SOS']] = 1\n",
    "    new_tensor = torch.zeros(input_tensors.shape[0], vae_utils.max_len, vae_utils.n_letters)\n",
    "    new_tensor[:][0] = sos_tensor\n",
    "    new_tensor[:, 1:vae_utils.max_len, :] = input_tensors[:, 0:vae_utils.max_len-1, :]\n",
    "    new_tensor = new_tensor.permute(1, 0, 2).to(input_tensors.device)\n",
    "    \n",
    "    return new_tensor"
   ]
  },
  {
   "cell_type": "code",
   "execution_count": 24,
   "metadata": {},
   "outputs": [],
   "source": [
    "class Decoder(nn.Module):\n",
    "    def __init__(self, input_size, hidden_size, num_layers):\n",
    "        super().__init__()\n",
    "        self.hidden_size = hidden_size\n",
    "        self.prenum_layers = num_layers\n",
    "        self.preprocess = Lambda(preprocess_decoder_input)\n",
    "        self.rnn = nn.GRU(input_size, hidden_size, num_layers)\n",
    "        self.out = nn.Linear(hidden_size, input_size)\n",
    "        self.softmax = nn.Softmax(dim=2)\n",
    "        \n",
    "    def forward(self, input, hidden):\n",
    "        output, hidden = self.rnn(self.preprocess(input), )\n",
    "        output = output.permute(1, 0, 2)\n",
    "        output = self.softmax(self.out(output))\n",
    "        return output, hidden"
   ]
  },
  {
   "cell_type": "code",
   "execution_count": 25,
   "metadata": {},
   "outputs": [],
   "source": [
    "class PropertyPredictor(nn.Module):\n",
    "    def __init__(self, nlatent):\n",
    "        super().__init__()\n",
    "        self.predictor = nn.Sequential(\n",
    "            nn.Linear(nlatent, 1000),\n",
    "            nn.Tanh(), # the authors of the paper used tanh\n",
    "            nn.Dropout(.2),\n",
    "            nn.Linear(1000, 1000),\n",
    "            nn.Tanh(), # the authors of the paper used tanh\n",
    "            nn.Dropout(.2),\n",
    "            nn.Linear(1000, 1)\n",
    "        )\n",
    "        \n",
    "    def forward(self, x):\n",
    "        return self.predictor(x) "
   ]
  },
  {
   "cell_type": "markdown",
   "metadata": {},
   "source": [
    "## Write Helper Functions for Training and Testing"
   ]
  },
  {
   "cell_type": "code",
   "execution_count": 26,
   "metadata": {},
   "outputs": [],
   "source": [
    "def kl_anneal_function(epoch, anneal_start, k=1):\n",
    "    return 1 / (1 + np.exp(- k * (epoch - anneal_start)))"
   ]
  },
  {
   "cell_type": "code",
   "execution_count": 27,
   "metadata": {},
   "outputs": [],
   "source": [
    "def time_since(since):\n",
    "    now = time()\n",
    "    s = now - since\n",
    "    m = math.floor(s / 60)\n",
    "    s -= m * 60\n",
    "    return f'{m}m {s:.0f}s'"
   ]
  },
  {
   "cell_type": "code",
   "execution_count": 42,
   "metadata": {},
   "outputs": [],
   "source": [
    "def fit(epochs, anneal_start, lr, train_dl, valid_dl, device, reg_col:str, load_previous=False):\n",
    "    encoder = Encoder(vae_utils.n_letters, NLATENT, DECODER_HIDDEN_SIZE).to(device)\n",
    "    decoder = Decoder(vae_utils.n_letters, DECODER_HIDDEN_SIZE, DECODER_NUM_LAYERS).to(device)\n",
    "    property_predictor = PropertyPredictor(NLATENT).to(device)\n",
    "    \n",
    "    if load_previous:\n",
    "        encoder.load_state_dict(torch.load(pathlib.Path(MODELS_DIR, f'{reg_col}_encoder.pth')))\n",
    "        decoder.load_state_dict(torch.load(pathlib.Path(MODELS_DIR, f'{reg_col}_decoder.pth')))\n",
    "        property_predictor.load_state_dict(torch.load(pathlib.Path(MODELS_DIR, f'{reg_col}_property_predictor.pth')))\n",
    "    \n",
    "    enc_opt = optim.Adam(encoder.parameters(), lr=lr)\n",
    "    dec_opt = optim.Adam(decoder.parameters(), lr=lr)\n",
    "    pp_opt = optim.Adam(property_predictor.parameters(), lr=lr)\n",
    "    \n",
    "    recontruction_loss_func = nn.NLLLoss()\n",
    "    reg_loss_func = nn.MSELoss()\n",
    "    \n",
    "    train_losses = []\n",
    "    val_losses = []\n",
    "    \n",
    "    def process_dl(epoch, dl, train:bool):\n",
    "        num_loaders = len(dl)\n",
    "        loader_loss = 0\n",
    "        for input_tensors, target_tensors, original_lengths, property_values in dl:\n",
    "            z, mean, log_var, dec_init_hidden = encoder(input_tensors)\n",
    "            output, hidden = decoder(input_tensors, \n",
    "                                     dec_init_hidden.unsqueeze(0).repeat(DECODER_NUM_LAYERS, 1, 1))\n",
    "            reg_pred = property_predictor(z)\n",
    "            \n",
    "            kl_divergence = -0.5 * torch.sum(1 + log_var - mean.pow(2) - log_var.exp())\n",
    "            kl_weight = kl_anneal_function(epoch, anneal_start)\n",
    "            \n",
    "            reg_loss = reg_loss_func(reg_pred.flatten(), property_values)\n",
    "            reg_loss = reg_loss.type(torch.float32) \n",
    "            \n",
    "            reconstruction_loss = 0\n",
    "            for i in range(input_tensors.shape[0]):\n",
    "                reconstruction_loss += recontruction_loss_func(output[i], target_tensors[i])\n",
    "            reconstruction_loss /= input_tensors.shape[0]\n",
    "            reconstruction_loss = reconstruction_loss.type(torch.float32) \n",
    "\n",
    "            loss = reconstruction_loss + kl_divergence * kl_weight + reg_loss\n",
    "            \n",
    "            if train:\n",
    "                enc_opt.zero_grad()\n",
    "                dec_opt.zero_grad()\n",
    "                pp_opt.zero_grad()\n",
    "                \n",
    "                loss.backward()\n",
    "                \n",
    "                enc_opt.step()\n",
    "                dec_opt.step()\n",
    "                pp_opt.step()\n",
    "                \n",
    "            loader_loss += loss.item()\n",
    "        \n",
    "        return loader_loss / num_loaders\n",
    "    \n",
    "    start_time = time()\n",
    "    \n",
    "    for epoch in tqdm(range(epochs)):\n",
    "        encoder.train()\n",
    "        decoder.train()\n",
    "        property_predictor.train()\n",
    "        train_loss = process_dl(epoch, train_dl, train=True)\n",
    "        train_losses.append(train_loss)\n",
    "        \n",
    "        encoder.eval()\n",
    "        decoder.eval()\n",
    "        property_predictor.eval()\n",
    "        with torch.no_grad():\n",
    "            val_loss = process_dl(epoch, valid_dl, train=False)\n",
    "            val_losses.append(val_loss)\n",
    "            \n",
    "        print(f\"Epoch: {epoch+1:3d} | Train Loss: {train_loss:10.5f} | Val Loss: {val_loss:10.5f} | \" +\\\n",
    "              f\"Time Taken: {time_since(start_time)}\")\n",
    "    \n",
    "    models_dir = pathlib.Path(MODELS_DIR)\n",
    "    models_dir.mkdir(exist_ok=True, parents=True)\n",
    "    torch.save(encoder.state_dict(), models_dir / pathlib.Path(f'{reg_col}_encoder.pth'))\n",
    "    torch.save(decoder.state_dict(), models_dir / pathlib.Path(f'{reg_col}_decoder.pth'))\n",
    "    torch.save(property_predictor.state_dict(), models_dir / pathlib.Path(f'{reg_col}_property_predictor.pth'))\n",
    "    \n",
    "    return train_losses, val_losses"
   ]
  },
  {
   "cell_type": "code",
   "execution_count": 29,
   "metadata": {},
   "outputs": [],
   "source": [
    "def plot_losses(train_losses, val_losses):\n",
    "    plt.figure(figsize=(20,10))\n",
    "    plt.rcParams.update({'font.size': 15})\n",
    "\n",
    "    plt.plot(train_losses, label='Train Loss')\n",
    "    plt.plot(val_losses, label = 'Validation Loss')\n",
    "\n",
    "    plt.xlabel('Epoch')\n",
    "    plt.ylabel('Loss')\n",
    "\n",
    "    plt.legend(loc='upper right')\n",
    "    plt.show()"
   ]
  },
  {
   "cell_type": "code",
   "execution_count": 30,
   "metadata": {},
   "outputs": [],
   "source": [
    "def get_dataloaders(df, train_idx, valid_idx, test_idx):\n",
    "    start_time = time()\n",
    "    train_dl = vae_utils.get_dl(df, train_idx[:max_samples], bs, device, shuffle=True)\n",
    "    valid_dl = vae_utils.get_dl(df, valid_idx[:max_samples], bs*2, device)\n",
    "    test_dl = vae_utils.get_dl(df, test_idx[:max_samples], bs*2, device)\n",
    "    print(f'Time taken to get dataloaders: {time() - start_time:.2f}s')\n",
    "    \n",
    "    return train_dl, valid_dl, test_dl"
   ]
  },
  {
   "cell_type": "code",
   "execution_count": 31,
   "metadata": {},
   "outputs": [],
   "source": [
    "def get_pred_mae(reg_col, dl):\n",
    "    encoder = Encoder(vae_utils.n_letters, NLATENT, DECODER_HIDDEN_SIZE).to(device)\n",
    "    property_predictor = PropertyPredictor(NLATENT).to(device)\n",
    "\n",
    "    encoder.load_state_dict(torch.load(pathlib.Path(MODELS_DIR, f'{reg_col}_encoder.pth')))\n",
    "    property_predictor.load_state_dict(torch.load(pathlib.Path(MODELS_DIR, f'{reg_col}_property_predictor.pth')))\n",
    "    \n",
    "    encoder.eval()\n",
    "    property_predictor.eval()\n",
    "    \n",
    "    with torch.no_grad():\n",
    "        abs_errors = []\n",
    "        for input_tensors, target_tensors, original_lengths, property_values in dl:\n",
    "            z, mean, log_var, dec_init_hidden = encoder(input_tensors)\n",
    "            reg_pred = property_predictor(z)\n",
    "            abs_error = torch.abs(property_values - reg_pred.flatten())\n",
    "            abs_errors.append(abs_error)\n",
    "            \n",
    "        abs_errors = torch.cat(abs_errors)\n",
    "        mae_error = abs_errors.mean()\n",
    "        \n",
    "    return mae_error"
   ]
  },
  {
   "cell_type": "markdown",
   "metadata": {},
   "source": [
    "## Define Parameters for Training"
   ]
  },
  {
   "cell_type": "code",
   "execution_count": 32,
   "metadata": {},
   "outputs": [],
   "source": [
    "valid_pct = .1\n",
    "bs = 200\n",
    "max_samples = 20000\n",
    "device = torch.device('cuda:0') if torch.cuda.is_available() else torch.device(\"cpu\")\n",
    "# device = torch.device(\"cpu\")\n",
    "epochs = 50\n",
    "anneal_start = 15\n",
    "lr = 0.0005,\n",
    "load_previous = True"
   ]
  },
  {
   "cell_type": "markdown",
   "metadata": {},
   "source": [
    "## Train and Test the Network for _logP_"
   ]
  },
  {
   "cell_type": "code",
   "execution_count": 33,
   "metadata": {},
   "outputs": [],
   "source": [
    "errors = {}"
   ]
  },
  {
   "cell_type": "code",
   "execution_count": 34,
   "metadata": {
    "scrolled": true
   },
   "outputs": [
    {
     "data": {
      "application/vnd.jupyter.widget-view+json": {
       "model_id": "3f40cf7c8d1d4230b07e89569610df07",
       "version_major": 2,
       "version_minor": 0
      },
      "text/plain": [
       "0it [00:00, ?it/s]"
      ]
     },
     "metadata": {},
     "output_type": "display_data"
    },
    {
     "data": {
      "application/vnd.jupyter.widget-view+json": {
       "model_id": "6ce2dd58e5004ef28a572118ac19741a",
       "version_major": 2,
       "version_minor": 0
      },
      "text/plain": [
       "0it [00:00, ?it/s]"
      ]
     },
     "metadata": {},
     "output_type": "display_data"
    },
    {
     "data": {
      "application/vnd.jupyter.widget-view+json": {
       "model_id": "2c35a50e83024a95b0fdd3b33a657103",
       "version_major": 2,
       "version_minor": 0
      },
      "text/plain": [
       "0it [00:00, ?it/s]"
      ]
     },
     "metadata": {},
     "output_type": "display_data"
    },
    {
     "name": "stdout",
     "output_type": "stream",
     "text": [
      "Time taken to get dataloaders: 58.87s\n"
     ]
    },
    {
     "data": {
      "application/vnd.jupyter.widget-view+json": {
       "model_id": "b21afd84447f4e4c91d3a866cff7be10",
       "version_major": 2,
       "version_minor": 0
      },
      "text/plain": [
       "  0%|          | 0/50 [00:00<?, ?it/s]"
      ]
     },
     "metadata": {},
     "output_type": "display_data"
    },
    {
     "name": "stdout",
     "output_type": "stream",
     "text": [
      "Epoch:   0 | Train Loss:    0.92008 | Val Loss:    0.26255 | Time Taken: 0m 22s\n",
      "Epoch:   1 | Train Loss:    0.02704 | Val Loss:   -0.05796 | Time Taken: 0m 44s\n",
      "Epoch:   2 | Train Loss:   -0.12692 | Val Loss:   -0.02392 | Time Taken: 1m 7s\n",
      "Epoch:   3 | Train Loss:   -0.14917 | Val Loss:   -0.02293 | Time Taken: 1m 30s\n",
      "Epoch:   4 | Train Loss:   -0.08650 | Val Loss:    0.34204 | Time Taken: 1m 52s\n",
      "Epoch:   5 | Train Loss:   -0.02827 | Val Loss:    0.12370 | Time Taken: 2m 13s\n",
      "Epoch:   6 | Train Loss:    0.06986 | Val Loss:    0.28610 | Time Taken: 2m 34s\n",
      "Epoch:   7 | Train Loss:    0.16861 | Val Loss:    0.37976 | Time Taken: 2m 56s\n",
      "Epoch:   8 | Train Loss:    0.30705 | Val Loss:    0.57650 | Time Taken: 3m 17s\n",
      "Epoch:   9 | Train Loss:    0.71992 | Val Loss:    1.38294 | Time Taken: 3m 38s\n",
      "Epoch:  10 | Train Loss:    1.47633 | Val Loss:    2.04127 | Time Taken: 3m 60s\n",
      "Epoch:  11 | Train Loss:    3.51252 | Val Loss:    2.45926 | Time Taken: 4m 21s\n",
      "Epoch:  12 | Train Loss:    2.60245 | Val Loss:    2.03036 | Time Taken: 4m 43s\n",
      "Epoch:  13 | Train Loss:    3.99949 | Val Loss:    2.42143 | Time Taken: 5m 4s\n",
      "Epoch:  14 | Train Loss:    3.05196 | Val Loss:    3.58488 | Time Taken: 5m 25s\n",
      "Epoch:  15 | Train Loss:    9.07933 | Val Loss:    3.31573 | Time Taken: 5m 47s\n",
      "Epoch:  16 | Train Loss:    2.67674 | Val Loss:    3.40743 | Time Taken: 6m 8s\n",
      "Epoch:  17 | Train Loss:    2.64974 | Val Loss:    4.16151 | Time Taken: 6m 29s\n",
      "Epoch:  18 | Train Loss:    2.68137 | Val Loss:    4.47535 | Time Taken: 6m 51s\n",
      "Epoch:  19 | Train Loss:    2.50721 | Val Loss:    2.76495 | Time Taken: 7m 12s\n",
      "Epoch:  20 | Train Loss:    1.98020 | Val Loss:    2.61564 | Time Taken: 7m 34s\n",
      "Epoch:  21 | Train Loss:    1.84290 | Val Loss:    2.40211 | Time Taken: 7m 55s\n",
      "Epoch:  22 | Train Loss:    1.82536 | Val Loss:    2.97504 | Time Taken: 8m 16s\n",
      "Epoch:  23 | Train Loss:    1.83239 | Val Loss:    2.40446 | Time Taken: 8m 38s\n",
      "Epoch:  24 | Train Loss:    1.68181 | Val Loss:    1.91320 | Time Taken: 8m 60s\n",
      "Epoch:  25 | Train Loss:    1.66521 | Val Loss:    2.35806 | Time Taken: 9m 21s\n",
      "Epoch:  26 | Train Loss:    1.78676 | Val Loss:    2.10826 | Time Taken: 9m 43s\n",
      "Epoch:  27 | Train Loss:    1.67439 | Val Loss:    1.93697 | Time Taken: 10m 4s\n",
      "Epoch:  28 | Train Loss:    1.62784 | Val Loss:    1.82384 | Time Taken: 10m 26s\n",
      "Epoch:  29 | Train Loss:    1.54419 | Val Loss:    1.96169 | Time Taken: 10m 48s\n",
      "Epoch:  30 | Train Loss:    1.60050 | Val Loss:    2.06809 | Time Taken: 11m 11s\n",
      "Epoch:  31 | Train Loss:    1.63306 | Val Loss:    1.88712 | Time Taken: 11m 33s\n",
      "Epoch:  32 | Train Loss:    1.57731 | Val Loss:    1.77556 | Time Taken: 11m 56s\n",
      "Epoch:  33 | Train Loss:    1.49589 | Val Loss:    1.81641 | Time Taken: 12m 18s\n",
      "Epoch:  34 | Train Loss:    1.50403 | Val Loss:    1.86194 | Time Taken: 12m 41s\n",
      "Epoch:  35 | Train Loss:    1.52681 | Val Loss:    1.76553 | Time Taken: 13m 4s\n",
      "Epoch:  36 | Train Loss:    1.57007 | Val Loss:    1.82698 | Time Taken: 13m 26s\n",
      "Epoch:  37 | Train Loss:    1.57383 | Val Loss:    1.89957 | Time Taken: 13m 49s\n",
      "Epoch:  38 | Train Loss:    1.48734 | Val Loss:    1.78025 | Time Taken: 14m 11s\n",
      "Epoch:  39 | Train Loss:    1.53184 | Val Loss:    1.79160 | Time Taken: 14m 34s\n",
      "Epoch:  40 | Train Loss:    1.50368 | Val Loss:    1.74625 | Time Taken: 14m 56s\n",
      "Epoch:  41 | Train Loss:    1.59308 | Val Loss:    1.78914 | Time Taken: 15m 19s\n",
      "Epoch:  42 | Train Loss:    1.48744 | Val Loss:    1.67919 | Time Taken: 15m 42s\n",
      "Epoch:  43 | Train Loss:    1.48713 | Val Loss:    1.78871 | Time Taken: 16m 5s\n",
      "Epoch:  44 | Train Loss:    1.48676 | Val Loss:    1.62409 | Time Taken: 16m 27s\n",
      "Epoch:  45 | Train Loss:    1.48889 | Val Loss:    1.73484 | Time Taken: 16m 48s\n",
      "Epoch:  46 | Train Loss:    1.61463 | Val Loss:    1.95343 | Time Taken: 17m 10s\n",
      "Epoch:  47 | Train Loss:    1.50586 | Val Loss:    1.67926 | Time Taken: 17m 32s\n",
      "Epoch:  48 | Train Loss:    1.43811 | Val Loss:    1.56110 | Time Taken: 17m 53s\n",
      "Epoch:  49 | Train Loss:    1.39707 | Val Loss:    1.53187 | Time Taken: 18m 17s\n"
     ]
    },
    {
     "data": {
      "image/png": "[encoded data removed]",
      "text/plain": [
       "<Figure size 1440x720 with 1 Axes>"
      ]
     },
     "metadata": {
      "needs_background": "light"
     },
     "output_type": "display_data"
    }
   ],
   "source": [
    "reg_col = 'logP'\n",
    "df, train_idx, valid_idx, test_idx = vae_utils.get_train_valid_test_splits(reg_col, valid_pct)\n",
    "train_dl, valid_dl, test_dl = get_dataloaders(df, train_idx, valid_idx, test_idx)\n",
    "train_losses, val_losses = fit(epochs, anneal_start, lr, train_dl, valid_dl, device, reg_col, load_previous)\n",
    "plot_losses(train_losses, val_losses)"
   ]
  },
  {
   "cell_type": "code",
   "execution_count": 35,
   "metadata": {},
   "outputs": [],
   "source": [
    "reg_mean_train = df.iloc[train_idx].reg_col.mean()\n",
    "mean_mae_test = np.mean(np.abs(df.iloc[test_idx].reg_col - reg_mean_train))\n",
    "vae_mae_test = get_pred_mae(reg_col, test_dl).item()\n",
    "errors[reg_col] = {'mean_mae_test': mean_mae_test, 'vae_mae_test': vae_mae_test}"
   ]
  },
  {
   "cell_type": "markdown",
   "metadata": {},
   "source": [
    "## Train and Test the Network for _QED_"
   ]
  },
  {
   "cell_type": "code",
   "execution_count": 38,
   "metadata": {
    "scrolled": true
   },
   "outputs": [
    {
     "data": {
      "application/vnd.jupyter.widget-view+json": {
       "model_id": "3af11db3ce5449ed8206bc7ece9dde39",
       "version_major": 2,
       "version_minor": 0
      },
      "text/plain": [
       "0it [00:00, ?it/s]"
      ]
     },
     "metadata": {},
     "output_type": "display_data"
    },
    {
     "data": {
      "application/vnd.jupyter.widget-view+json": {
       "model_id": "8451f37bfbb941c9b445a289fa9ca0bd",
       "version_major": 2,
       "version_minor": 0
      },
      "text/plain": [
       "0it [00:00, ?it/s]"
      ]
     },
     "metadata": {},
     "output_type": "display_data"
    },
    {
     "data": {
      "application/vnd.jupyter.widget-view+json": {
       "model_id": "a7886fa5ea2c473faf261735eee7c970",
       "version_major": 2,
       "version_minor": 0
      },
      "text/plain": [
       "0it [00:00, ?it/s]"
      ]
     },
     "metadata": {},
     "output_type": "display_data"
    },
    {
     "name": "stdout",
     "output_type": "stream",
     "text": [
      "Time taken to get dataloaders: 81.35s\n"
     ]
    },
    {
     "data": {
      "application/vnd.jupyter.widget-view+json": {
       "model_id": "bf676fab0c1a451bb11ed7a0e54ceb03",
       "version_major": 2,
       "version_minor": 0
      },
      "text/plain": [
       "  0%|          | 0/50 [00:00<?, ?it/s]"
      ]
     },
     "metadata": {},
     "output_type": "display_data"
    },
    {
     "name": "stdout",
     "output_type": "stream",
     "text": [
      "Epoch:   0 | Train Loss:   -0.53158 | Val Loss:   -0.61239 | Time Taken: 0m 24s\n",
      "Epoch:   1 | Train Loss:   -0.63899 | Val Loss:   -0.64285 | Time Taken: 0m 47s\n",
      "Epoch:   2 | Train Loss:   -0.64904 | Val Loss:   -0.65083 | Time Taken: 1m 12s\n",
      "Epoch:   3 | Train Loss:   -0.65289 | Val Loss:   -0.65091 | Time Taken: 1m 36s\n",
      "Epoch:   4 | Train Loss:   -0.65241 | Val Loss:   -0.65204 | Time Taken: 1m 59s\n",
      "Epoch:   5 | Train Loss:   -0.65261 | Val Loss:   -0.64744 | Time Taken: 2m 24s\n",
      "Epoch:   6 | Train Loss:   -0.65392 | Val Loss:   -0.66115 | Time Taken: 2m 47s\n",
      "Epoch:   7 | Train Loss:   -0.65301 | Val Loss:   -0.66825 | Time Taken: 3m 11s\n",
      "Epoch:   8 | Train Loss:   -0.51405 | Val Loss:   -0.66984 | Time Taken: 3m 35s\n",
      "Epoch:   9 | Train Loss:   -0.54078 | Val Loss:   -0.66576 | Time Taken: 3m 59s\n",
      "Epoch:  10 | Train Loss:    0.46669 | Val Loss:   -0.64244 | Time Taken: 4m 23s\n",
      "Epoch:  11 | Train Loss:   -0.31618 | Val Loss:   -0.61472 | Time Taken: 4m 47s\n",
      "Epoch:  12 | Train Loss:    4.19181 | Val Loss:   -0.48338 | Time Taken: 5m 11s\n",
      "Epoch:  13 | Train Loss:    0.41126 | Val Loss:   -0.29537 | Time Taken: 5m 35s\n",
      "Epoch:  14 | Train Loss:   20.91333 | Val Loss:    0.09877 | Time Taken: 5m 58s\n",
      "Epoch:  15 | Train Loss:    1.25502 | Val Loss:    0.41215 | Time Taken: 6m 22s\n",
      "Epoch:  16 | Train Loss:    4.00961 | Val Loss:    2.09764 | Time Taken: 6m 45s\n",
      "Epoch:  17 | Train Loss:    1.49845 | Val Loss:    2.04660 | Time Taken: 7m 9s\n",
      "Epoch:  18 | Train Loss:    1.17349 | Val Loss:    1.70248 | Time Taken: 7m 33s\n",
      "Epoch:  19 | Train Loss:    0.33597 | Val Loss:    1.45244 | Time Taken: 7m 57s\n",
      "Epoch:  20 | Train Loss:    0.50629 | Val Loss:    3.81669 | Time Taken: 8m 20s\n",
      "Epoch:  21 | Train Loss:    0.02633 | Val Loss:    0.30704 | Time Taken: 8m 44s\n",
      "Epoch:  22 | Train Loss:    0.23352 | Val Loss:    2.37874 | Time Taken: 9m 8s\n",
      "Epoch:  23 | Train Loss:    0.32943 | Val Loss:    1.12689 | Time Taken: 9m 33s\n",
      "Epoch:  24 | Train Loss:   -0.15322 | Val Loss:    1.07648 | Time Taken: 9m 57s\n",
      "Epoch:  25 | Train Loss:    0.08339 | Val Loss:   -0.14202 | Time Taken: 10m 22s\n",
      "Epoch:  26 | Train Loss:   -0.13542 | Val Loss:    0.26441 | Time Taken: 10m 45s\n",
      "Epoch:  27 | Train Loss:   -0.09836 | Val Loss:    0.03196 | Time Taken: 11m 10s\n",
      "Epoch:  28 | Train Loss:    0.32057 | Val Loss:    4.40507 | Time Taken: 11m 33s\n",
      "Epoch:  29 | Train Loss:    0.61386 | Val Loss:    4.39735 | Time Taken: 11m 57s\n",
      "Epoch:  30 | Train Loss:    0.90385 | Val Loss:    1.47609 | Time Taken: 12m 21s\n",
      "Epoch:  31 | Train Loss:   -0.00883 | Val Loss:    0.12046 | Time Taken: 12m 46s\n",
      "Epoch:  32 | Train Loss:   -0.24227 | Val Loss:   -0.01237 | Time Taken: 13m 10s\n",
      "Epoch:  33 | Train Loss:   -0.23258 | Val Loss:    0.65811 | Time Taken: 13m 33s\n",
      "Epoch:  34 | Train Loss:    0.23296 | Val Loss:    0.52081 | Time Taken: 13m 57s\n",
      "Epoch:  35 | Train Loss:    0.14925 | Val Loss:    0.72515 | Time Taken: 14m 21s\n",
      "Epoch:  36 | Train Loss:    0.10811 | Val Loss:    0.33160 | Time Taken: 14m 45s\n",
      "Epoch:  37 | Train Loss:   -0.39219 | Val Loss:   -0.01558 | Time Taken: 15m 9s\n",
      "Epoch:  38 | Train Loss:   -0.03030 | Val Loss:    1.92233 | Time Taken: 15m 32s\n",
      "Epoch:  39 | Train Loss:    0.08729 | Val Loss:    0.29127 | Time Taken: 15m 56s\n",
      "Epoch:  40 | Train Loss:   -0.04632 | Val Loss:    2.45053 | Time Taken: 16m 20s\n",
      "Epoch:  41 | Train Loss:    0.51292 | Val Loss:    2.90212 | Time Taken: 16m 44s\n",
      "Epoch:  42 | Train Loss:    0.77775 | Val Loss:    1.26500 | Time Taken: 17m 8s\n",
      "Epoch:  43 | Train Loss:    0.10308 | Val Loss:    4.18087 | Time Taken: 17m 31s\n",
      "Epoch:  44 | Train Loss:    0.67721 | Val Loss:    2.14574 | Time Taken: 17m 55s\n",
      "Epoch:  45 | Train Loss:    0.74207 | Val Loss:    3.91469 | Time Taken: 18m 18s\n",
      "Epoch:  46 | Train Loss:    0.93883 | Val Loss:    1.05979 | Time Taken: 18m 43s\n",
      "Epoch:  47 | Train Loss:    0.11446 | Val Loss:    0.66602 | Time Taken: 19m 6s\n",
      "Epoch:  48 | Train Loss:    0.40887 | Val Loss:    3.13378 | Time Taken: 19m 29s\n",
      "Epoch:  49 | Train Loss:    0.49951 | Val Loss:    1.88554 | Time Taken: 19m 52s\n"
     ]
    },
    {
     "data": {
      "image/png": "[encoded data removed]",
      "text/plain": [
       "<Figure size 1440x720 with 1 Axes>"
      ]
     },
     "metadata": {
      "needs_background": "light"
     },
     "output_type": "display_data"
    }
   ],
   "source": [
    "reg_col = 'qed'\n",
    "df, train_idx, valid_idx, test_idx = vae_utils.get_train_valid_test_splits(reg_col, valid_pct)\n",
    "train_dl, valid_dl, test_dl = get_dataloaders(df, train_idx, valid_idx, test_idx)\n",
    "train_losses, val_losses = fit(epochs, anneal_start, lr, train_dl, valid_dl, device, reg_col, load_previous)\n",
    "plot_losses(train_losses, val_losses)"
   ]
  },
  {
   "cell_type": "code",
   "execution_count": 39,
   "metadata": {},
   "outputs": [],
   "source": [
    "reg_mean_train = df.iloc[train_idx].reg_col.mean()\n",
    "mean_mae_test = np.mean(np.abs(df.iloc[test_idx].reg_col - reg_mean_train))\n",
    "vae_mae_test = get_pred_mae(reg_col, test_dl).item()\n",
    "errors[reg_col] = {'mean_mae_test': mean_mae_test, 'vae_mae_test': vae_mae_test}"
   ]
  },
  {
   "cell_type": "markdown",
   "metadata": {},
   "source": [
    "## Report the Results"
   ]
  },
  {
   "cell_type": "code",
   "execution_count": 40,
   "metadata": {},
   "outputs": [
    {
     "data": {
      "text/html": [
       "<div>\n",
       "<style scoped>\n",
       "    .dataframe tbody tr th:only-of-type {\n",
       "        vertical-align: middle;\n",
       "    }\n",
       "\n",
       "    .dataframe tbody tr th {\n",
       "        vertical-align: top;\n",
       "    }\n",
       "\n",
       "    .dataframe thead th {\n",
       "        text-align: right;\n",
       "    }\n",
       "</style>\n",
       "<table border=\"1\" class=\"dataframe\">\n",
       "  <thead>\n",
       "    <tr style=\"text-align: right;\">\n",
       "      <th></th>\n",
       "      <th>mean_mae_test</th>\n",
       "      <th>vae_mae_test</th>\n",
       "    </tr>\n",
       "  </thead>\n",
       "  <tbody>\n",
       "    <tr>\n",
       "      <th>logP</th>\n",
       "      <td>1.119256</td>\n",
       "      <td>1.108421</td>\n",
       "    </tr>\n",
       "    <tr>\n",
       "      <th>qed</th>\n",
       "      <td>0.107472</td>\n",
       "      <td>0.106894</td>\n",
       "    </tr>\n",
       "  </tbody>\n",
       "</table>\n",
       "</div>"
      ],
      "text/plain": [
       "      mean_mae_test  vae_mae_test\n",
       "logP       1.119256      1.108421\n",
       "qed        0.107472      0.106894"
      ]
     },
     "execution_count": 40,
     "metadata": {},
     "output_type": "execute_result"
    }
   ],
   "source": [
    "pd.DataFrame(errors).transpose()"
   ]
  },
  {
   "cell_type": "markdown",
   "metadata": {},
   "source": [
    "## Remarks"
   ]
  },
  {
   "cell_type": "markdown",
   "metadata": {},
   "source": [
    "1. max_exmaples = 20,000, epochs = 50, anneal_start = 15"
   ]
  }
 ],
 "metadata": {
  "kernelspec": {
   "display_name": "Python 3",
   "language": "python",
   "name": "python3"
  },
  "language_info": {
   "codemirror_mode": {
    "name": "ipython",
    "version": 3
   },
   "file_extension": ".py",
   "mimetype": "text/x-python",
   "name": "python",
   "nbconvert_exporter": "python",
   "pygments_lexer": "ipython3",
   "version": "3.6.8"
  }
 },
 "nbformat": 4,
 "nbformat_minor": 4
}
